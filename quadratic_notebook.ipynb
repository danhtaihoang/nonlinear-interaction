{
 "cells": [
  {
   "cell_type": "markdown",
   "metadata": {},
   "source": [
    "# Inferring quadratic interactions\n",
    "\n",
    "When the interactions between variables are not only linear but also\n",
    "non-linear, quadratic for instance, the local field can be described as\n",
    "$$H_i(t) = \\sum_j W_{ij} \\sigma_j (t) + \\frac{1}{2} \\sum_{j,k} Q_{ijk} \\sigma_{j}(t) \\sigma_{k}(t)$$\n",
    "The algorithm for inferring couplings $W_{ij}$ and $Q_{ijk}$ is similar to the algorithm for inferring only $W_{ij}$ that are described in Section 2. The update values of couplings are computed as\n",
    "$$Q_{ijk} = \\sum_{\\mu, \\nu} \\langle \\delta E_i \\delta \\sigma_{\\mu} \\sigma_{\\nu} \\rangle[C^{-1}]_{j\\mu}[C^{-1}]_{k\\nu}\n",
    "- \\sum_{l} \\sum_{\\lambda, \\mu, \\nu} \\langle \\delta E_i \\delta \\sigma_l \\rangle \\langle \\delta \\sigma_\\lambda \\delta \\sigma_\\mu \\sigma_\\nu \\rangle [C^{-1}]_{j\\lambda} [C^{-1}]_{k\\mu} [C^{-1}]_{l\\nu}$$\n",
    "\n",
    "and\n",
    "$$W_{ij} = \\sum_{k} \\lbrace \\langle \\delta E_i \\delta \\sigma_k \\rangle [C^{-1}]_{kj} - Q_{ijk}\\langle \\sigma_k \\rangle \\rbrace$$\n",
    "\n",
    "In the following, we will demontrade the performance of our method in inferring the linear couplings $W_{ij}$ and quadratic couplings $Q_{ijk}$ from configurations of variables $\\vec \\sigma$.\n",
    "\n",
    "As usual, we start by importing the nesscesary packages into the jupyter notebook."
   ]
  },
  {
   "cell_type": "code",
   "execution_count": 1,
   "metadata": {},
   "outputs": [],
   "source": [
    "import numpy as np\n",
    "import sys\n",
    "import matplotlib.pyplot as plt\n",
    "import quadratic as quad\n",
    "%matplotlib inline\n",
    "\n",
    "np.random.seed(1)"
   ]
  },
  {
   "cell_type": "markdown",
   "metadata": {},
   "source": [
    "Let us consider a system of `n` variables. The coupling variability is determined by parameter `g`."
   ]
  },
  {
   "cell_type": "code",
   "execution_count": 2,
   "metadata": {},
   "outputs": [],
   "source": [
    "# parameter setting:\n",
    "n = 40  \n",
    "g = 0.5"
   ]
  },
  {
   "cell_type": "markdown",
   "metadata": {},
   "source": [
    "From the parameters, we will generate linear couplings $w_{ij}$ and quadratic couplings $q_{ijk}$. Those are actual couplings."
   ]
  },
  {
   "cell_type": "code",
   "execution_count": 3,
   "metadata": {},
   "outputs": [],
   "source": [
    "w0 = np.random.normal(0.0,g/np.sqrt(n),size=(n,n))\n",
    "q0 = quad.generate_quadratic(g,n)"
   ]
  },
  {
   "cell_type": "markdown",
   "metadata": {},
   "source": [
    "Now, from this couplings, we will generate configurations of variables `s` according to the kinetic ising model."
   ]
  },
  {
   "cell_type": "code",
   "execution_count": 4,
   "metadata": {},
   "outputs": [],
   "source": [
    "l = 200000\n",
    "s = quad.generate_data(w0,q0,l)"
   ]
  },
  {
   "cell_type": "markdown",
   "metadata": {},
   "source": [
    "Using the configurations, we will recover the couplings."
   ]
  },
  {
   "cell_type": "code",
   "execution_count": 5,
   "metadata": {},
   "outputs": [],
   "source": [
    "w,q = quad.inference(s)"
   ]
  },
  {
   "cell_type": "markdown",
   "metadata": {},
   "source": [
    "We plot the inferred couplings as function of actual couplings. "
   ]
  },
  {
   "cell_type": "code",
   "execution_count": 6,
   "metadata": {},
   "outputs": [
    {
     "data": {
      "image/png": "[encoded data removed]",
      "text/plain": [
       "<Figure size 468x230.4 with 2 Axes>"
      ]
     },
     "metadata": {},
     "output_type": "display_data"
    }
   ],
   "source": [
    "plt.figure(figsize=(6.5,3.2))\n",
    "\n",
    "plt.subplot2grid((1,2),(0,0))\n",
    "plt.title('linear term')\n",
    "plt.plot([-0.3,0.3],[-0.3,0.3],'r--')\n",
    "plt.scatter(w0,w)\n",
    "plt.xlabel('actual couplings')\n",
    "plt.ylabel('inferred couplings')\n",
    "\n",
    "plt.subplot2grid((1,2),(0,1))\n",
    "plt.title('non-linear term')\n",
    "plt.plot([-0.1,0.1],[-0.1,0.1],'r--')\n",
    "plt.scatter(q0,q)\n",
    "plt.xlabel('actual couplings')\n",
    "plt.ylabel('inferred couplings')\n",
    "\n",
    "plt.tight_layout(h_pad=1, w_pad=1.5)\n",
    "plt.show()"
   ]
  }
 ],
 "metadata": {
  "kernelspec": {
   "display_name": "Python 2",
   "language": "python",
   "name": "python2"
  },
  "language_info": {
   "codemirror_mode": {
    "name": "ipython",
    "version": 2
   },
   "file_extension": ".py",
   "mimetype": "text/x-python",
   "name": "python",
   "nbconvert_exporter": "python",
   "pygments_lexer": "ipython2",
   "version": "2.7.15"
  }
 },
 "nbformat": 4,
 "nbformat_minor": 2
}
