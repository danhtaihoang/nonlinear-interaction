{
 "cells": [
  {
   "cell_type": "markdown",
   "metadata": {},
   "source": [
    "# Method: Inferring quadratic interactions"
   ]
  },
  {
   "cell_type": "code",
   "execution_count": 1,
   "metadata": {},
   "outputs": [],
   "source": [
    "import numpy as np\n",
    "import sys\n",
    "import matplotlib.pyplot as plt\n",
    "import simulate_quadratic as smlqd\n",
    "#import inference\n",
    "%matplotlib inline\n",
    "\n",
    "from scipy import linalg\n",
    "\n",
    "np.random.seed(1)"
   ]
  },
  {
   "cell_type": "code",
   "execution_count": 2,
   "metadata": {},
   "outputs": [],
   "source": [
    "# parameter setting:\n",
    "n = 4    # number of variables\n",
    "g = 0.5    # coupling variance\n",
    "\n",
    "w0 = np.random.normal(0.0,g/np.sqrt(n),size=(n,n))"
   ]
  },
  {
   "cell_type": "code",
   "execution_count": 3,
   "metadata": {},
   "outputs": [],
   "source": [
    "q0 = smlqd.generate_interaction(g,n)\n",
    "\n",
    "l = 100\n",
    "s = smlqd.generate_data(w0,q0,l)"
   ]
  },
  {
   "cell_type": "code",
   "execution_count": 4,
   "metadata": {},
   "outputs": [
    {
     "name": "stdout",
     "output_type": "stream",
     "text": [
      "[[ 1.  1.  1.  1.]\n",
      " [ 1.  1.  1.  1.]\n",
      " [ 1. -1. -1. -1.]\n",
      " [ 1.  1. -1.  1.]\n",
      " [ 1. -1. -1. -1.]\n",
      " [ 1.  1.  1.  1.]\n",
      " [ 1.  1. -1.  1.]\n",
      " [-1. -1.  1.  1.]\n",
      " [-1. -1. -1.  1.]\n",
      " [-1.  1. -1.  1.]]\n"
     ]
    }
   ],
   "source": [
    "print(s[:10,:])"
   ]
  },
  {
   "cell_type": "code",
   "execution_count": 5,
   "metadata": {},
   "outputs": [],
   "source": [
    "m = np.mean(s,axis=0)\n",
    "ds = s - m\n",
    "st1 = s[1:]\n",
    "\n",
    "c = np.cov(ds,rowvar=False,bias=True)\n",
    "c1 = linalg.inv(c) # inverse\n",
    "dst = ds[:-1].T\n",
    "H = st1\n",
    "W = np.empty((n,n)) #; H0 = np.empty(n)\n",
    "Q = np.empty((n,n,n))"
   ]
  },
  {
   "cell_type": "code",
   "execution_count": 6,
   "metadata": {},
   "outputs": [],
   "source": [
    "i0 = 0\n",
    "h = H[:,i0]\n",
    "q = Q[i0,:,:]"
   ]
  },
  {
   "cell_type": "code",
   "execution_count": 7,
   "metadata": {},
   "outputs": [],
   "source": [
    "h_av = h.mean()\n",
    "\n",
    "# q[i,j,k] = sum_i1i2 <dh_i*ds_i1*ds_i2> * [C_inv]_ji1 * [C_inv]_ki2\n",
    "# - sum_l <dh_i * ds_l> sum_i1,i2,i3 * <ds_i1 * ds_i2 * s_i3>*[C_inv]_ji1 * [C_inv]_ki2 * [C_inv]_li3\n",
    "# "
   ]
  },
  {
   "cell_type": "code",
   "execution_count": 8,
   "metadata": {},
   "outputs": [
    {
     "name": "stdout",
     "output_type": "stream",
     "text": [
      "[ 1.  1.  1.  1.  1.  1. -1. -1. -1. -1.  1.  1.  1.  1. -1. -1.  1.  1.\n",
      "  1.  1. -1.  1.  1. -1. -1. -1. -1.  1.  1. -1. -1. -1. -1. -1. -1. -1.\n",
      "  1.  1.  1.  1.  1. -1. -1. -1. -1. -1. -1. -1. -1. -1. -1. -1. -1.  1.\n",
      "  1.  1.  1.  1. -1. -1. -1. -1. -1. -1. -1. -1. -1. -1.  1. -1. -1. -1.\n",
      " -1. -1. -1.  1.  1.  1.  1. -1.  1.  1.  1. -1. -1. -1. -1. -1. -1. -1.\n",
      "  1. -1. -1. -1.  1.  1.  1. -1. -1.]\n"
     ]
    }
   ],
   "source": [
    "print(h)"
   ]
  },
  {
   "cell_type": "code",
   "execution_count": 9,
   "metadata": {},
   "outputs": [
    {
     "name": "stdout",
     "output_type": "stream",
     "text": [
      "-0.1919191919191919\n"
     ]
    }
   ],
   "source": [
    "print(h_av)"
   ]
  },
  {
   "cell_type": "code",
   "execution_count": 10,
   "metadata": {},
   "outputs": [
    {
     "name": "stdout",
     "output_type": "stream",
     "text": [
      "[ 1.19191919  1.19191919  1.19191919  1.19191919  1.19191919  1.19191919\n",
      " -0.80808081 -0.80808081 -0.80808081 -0.80808081  1.19191919  1.19191919\n",
      "  1.19191919  1.19191919 -0.80808081 -0.80808081  1.19191919  1.19191919\n",
      "  1.19191919  1.19191919 -0.80808081  1.19191919  1.19191919 -0.80808081\n",
      " -0.80808081 -0.80808081 -0.80808081  1.19191919  1.19191919 -0.80808081\n",
      " -0.80808081 -0.80808081 -0.80808081 -0.80808081 -0.80808081 -0.80808081\n",
      "  1.19191919  1.19191919  1.19191919  1.19191919  1.19191919 -0.80808081\n",
      " -0.80808081 -0.80808081 -0.80808081 -0.80808081 -0.80808081 -0.80808081\n",
      " -0.80808081 -0.80808081 -0.80808081 -0.80808081 -0.80808081  1.19191919\n",
      "  1.19191919  1.19191919  1.19191919  1.19191919 -0.80808081 -0.80808081\n",
      " -0.80808081 -0.80808081 -0.80808081 -0.80808081 -0.80808081 -0.80808081\n",
      " -0.80808081 -0.80808081  1.19191919 -0.80808081 -0.80808081 -0.80808081\n",
      " -0.80808081 -0.80808081 -0.80808081  1.19191919  1.19191919  1.19191919\n",
      "  1.19191919 -0.80808081  1.19191919  1.19191919  1.19191919 -0.80808081\n",
      " -0.80808081 -0.80808081 -0.80808081 -0.80808081 -0.80808081 -0.80808081\n",
      "  1.19191919 -0.80808081 -0.80808081 -0.80808081  1.19191919  1.19191919\n",
      "  1.19191919 -0.80808081 -0.80808081]\n"
     ]
    }
   ],
   "source": [
    "dh = h - h_av\n",
    "print(dh)"
   ]
  },
  {
   "cell_type": "code",
   "execution_count": 11,
   "metadata": {},
   "outputs": [],
   "source": [
    "ds = ds[:-1]\n",
    "\n",
    "# dhdsds[i1,i2] = mean_t dh[t]*ds[t,i1]*ds[t,i2]\n",
    "dhds = dh[:,np.newaxis]*ds\n",
    "dhdsds = np.dot(dhds.T,ds)/(l-1)"
   ]
  },
  {
   "cell_type": "code",
   "execution_count": 12,
   "metadata": {},
   "outputs": [],
   "source": [
    "# q1[j,k] = sum_i1i2 dhdsds[i1,i2]*C_inv[j,i1]*C_inv[k,i2] \n",
    "q1 = np.dot(c_inv,dhdsds)\n",
    "q1 = np.dot(q1,c_inv.T)"
   ]
  },
  {
   "cell_type": "code",
   "execution_count": 13,
   "metadata": {},
   "outputs": [
    {
     "name": "stdout",
     "output_type": "stream",
     "text": [
      "(4, 4)\n"
     ]
    }
   ],
   "source": [
    "print(q1.shape)"
   ]
  },
  {
   "cell_type": "code",
   "execution_count": 14,
   "metadata": {},
   "outputs": [
    {
     "name": "stdout",
     "output_type": "stream",
     "text": [
      "[[1 2]\n",
      " [3 4]]\n"
     ]
    }
   ],
   "source": [
    "# ss[t,i,j] = s[t,i]*s[t,j]\n",
    "a = np.array([[1,2],[3,4]])\n",
    "b = np.array([[0.1,0.2],[0.3,0.4]])\n",
    "print(a)\n"
   ]
  },
  {
   "cell_type": "code",
   "execution_count": 15,
   "metadata": {},
   "outputs": [
    {
     "name": "stdout",
     "output_type": "stream",
     "text": [
      "[[0.1 0.2]\n",
      " [0.3 0.4]]\n"
     ]
    }
   ],
   "source": [
    "print(b)"
   ]
  },
  {
   "cell_type": "code",
   "execution_count": 16,
   "metadata": {},
   "outputs": [
    {
     "name": "stdout",
     "output_type": "stream",
     "text": [
      "[[0.1 0.4]\n",
      " [0.9 1.6]]\n"
     ]
    }
   ],
   "source": [
    "c = a*b\n",
    "print(c)"
   ]
  },
  {
   "cell_type": "code",
   "execution_count": null,
   "metadata": {},
   "outputs": [],
   "source": []
  }
 ],
 "metadata": {
  "kernelspec": {
   "display_name": "Python 2",
   "language": "python",
   "name": "python2"
  },
  "language_info": {
   "codemirror_mode": {
    "name": "ipython",
    "version": 2
   },
   "file_extension": ".py",
   "mimetype": "text/x-python",
   "name": "python",
   "nbconvert_exporter": "python",
   "pygments_lexer": "ipython2",
   "version": "2.7.15"
  }
 },
 "nbformat": 4,
 "nbformat_minor": 2
}
