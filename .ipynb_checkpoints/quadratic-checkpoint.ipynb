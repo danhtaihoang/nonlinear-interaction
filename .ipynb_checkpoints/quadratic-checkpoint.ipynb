{
 "cells": [
  {
   "cell_type": "markdown",
   "metadata": {},
   "source": [
    "# Method: Inferring quadratic interactions"
   ]
  },
  {
   "cell_type": "code",
   "execution_count": 1,
   "metadata": {},
   "outputs": [],
   "source": [
    "import numpy as np\n",
    "import sys\n",
    "import matplotlib.pyplot as plt\n",
    "import simulate_quadratic as smlqd\n",
    "#import inference\n",
    "%matplotlib inline\n",
    "\n",
    "from scipy import linalg\n",
    "\n",
    "np.random.seed(1)"
   ]
  },
  {
   "cell_type": "code",
   "execution_count": 2,
   "metadata": {},
   "outputs": [],
   "source": [
    "# parameter setting:\n",
    "n = 4    # number of variables\n",
    "g = 0.5    # coupling variance\n",
    "\n",
    "w0 = np.random.normal(0.0,g/np.sqrt(n),size=(n,n))"
   ]
  },
  {
   "cell_type": "code",
   "execution_count": 3,
   "metadata": {},
   "outputs": [],
   "source": [
    "q0 = smlqd.generate_interaction(g,n)\n",
    "\n",
    "l = 100\n",
    "s = smlqd.generate_data(w0,q0,l)"
   ]
  },
  {
   "cell_type": "code",
   "execution_count": 4,
   "metadata": {},
   "outputs": [
    {
     "name": "stdout",
     "output_type": "stream",
     "text": [
      "[[ 1.  1.  1.  1.]\n",
      " [ 1.  1.  1.  1.]\n",
      " [ 1. -1. -1. -1.]\n",
      " [ 1.  1. -1.  1.]\n",
      " [ 1. -1. -1. -1.]\n",
      " [ 1.  1.  1.  1.]\n",
      " [ 1.  1. -1.  1.]\n",
      " [-1. -1.  1.  1.]\n",
      " [-1. -1. -1.  1.]\n",
      " [-1.  1. -1.  1.]]\n"
     ]
    }
   ],
   "source": [
    "print(s[:10,:])"
   ]
  },
  {
   "cell_type": "code",
   "execution_count": 5,
   "metadata": {},
   "outputs": [],
   "source": [
    "m = np.mean(s,axis=0)\n",
    "ds = s - m\n",
    "st1 = s[1:]\n",
    "\n",
    "c = np.cov(ds,rowvar=False,bias=True)\n",
    "c1 = linalg.inv(c) # inverse\n",
    "dst = ds[:-1].T\n",
    "H = st1\n",
    "W = np.empty((n,n)) #; H0 = np.empty(n)\n",
    "Q = np.empty((n,n,n))"
   ]
  },
  {
   "cell_type": "code",
   "execution_count": 6,
   "metadata": {},
   "outputs": [],
   "source": [
    "i0 = 0\n",
    "h = H[:,i0]\n",
    "q = Q[i0,:,:]"
   ]
  },
  {
   "cell_type": "code",
   "execution_count": 7,
   "metadata": {},
   "outputs": [],
   "source": [
    "h_av = h.mean()\n",
    "\n",
    "# q[i,j,k] = sum_i1i2 <dh_i*ds_i1*ds_i2> * [C_inv]_ji1 * [C_inv]_ki2\n",
    "# - sum_l <dh_i * ds_l> sum_i1,i2,i3 * <ds_i1 * ds_i2 * s_i3>*[C_inv]_ji1 * [C_inv]_ki2 * [C_inv]_li3\n",
    "# "
   ]
  },
  {
   "cell_type": "code",
   "execution_count": 8,
   "metadata": {},
   "outputs": [
    {
     "name": "stdout",
     "output_type": "stream",
     "text": [
      "[ 1.  1.  1.  1.  1.  1. -1. -1. -1. -1.  1.  1.  1.  1. -1. -1.  1.  1.\n",
      "  1.  1. -1.  1.  1. -1. -1. -1. -1.  1.  1. -1. -1. -1. -1. -1. -1. -1.\n",
      "  1.  1.  1.  1.  1. -1. -1. -1. -1. -1. -1. -1. -1. -1. -1. -1. -1.  1.\n",
      "  1.  1.  1.  1. -1. -1. -1. -1. -1. -1. -1. -1. -1. -1.  1. -1. -1. -1.\n",
      " -1. -1. -1.  1.  1.  1.  1. -1.  1.  1.  1. -1. -1. -1. -1. -1. -1. -1.\n",
      "  1. -1. -1. -1.  1.  1.  1. -1. -1.]\n"
     ]
    }
   ],
   "source": [
    "print(h)"
   ]
  },
  {
   "cell_type": "code",
   "execution_count": 9,
   "metadata": {},
   "outputs": [
    {
     "name": "stdout",
     "output_type": "stream",
     "text": [
      "-0.1919191919191919\n"
     ]
    }
   ],
   "source": [
    "print(h_av)"
   ]
  },
  {
   "cell_type": "code",
   "execution_count": 10,
   "metadata": {},
   "outputs": [
    {
     "name": "stdout",
     "output_type": "stream",
     "text": [
      "[ 1.19191919  1.19191919  1.19191919  1.19191919  1.19191919  1.19191919\n",
      " -0.80808081 -0.80808081 -0.80808081 -0.80808081  1.19191919  1.19191919\n",
      "  1.19191919  1.19191919 -0.80808081 -0.80808081  1.19191919  1.19191919\n",
      "  1.19191919  1.19191919 -0.80808081  1.19191919  1.19191919 -0.80808081\n",
      " -0.80808081 -0.80808081 -0.80808081  1.19191919  1.19191919 -0.80808081\n",
      " -0.80808081 -0.80808081 -0.80808081 -0.80808081 -0.80808081 -0.80808081\n",
      "  1.19191919  1.19191919  1.19191919  1.19191919  1.19191919 -0.80808081\n",
      " -0.80808081 -0.80808081 -0.80808081 -0.80808081 -0.80808081 -0.80808081\n",
      " -0.80808081 -0.80808081 -0.80808081 -0.80808081 -0.80808081  1.19191919\n",
      "  1.19191919  1.19191919  1.19191919  1.19191919 -0.80808081 -0.80808081\n",
      " -0.80808081 -0.80808081 -0.80808081 -0.80808081 -0.80808081 -0.80808081\n",
      " -0.80808081 -0.80808081  1.19191919 -0.80808081 -0.80808081 -0.80808081\n",
      " -0.80808081 -0.80808081 -0.80808081  1.19191919  1.19191919  1.19191919\n",
      "  1.19191919 -0.80808081  1.19191919  1.19191919  1.19191919 -0.80808081\n",
      " -0.80808081 -0.80808081 -0.80808081 -0.80808081 -0.80808081 -0.80808081\n",
      "  1.19191919 -0.80808081 -0.80808081 -0.80808081  1.19191919  1.19191919\n",
      "  1.19191919 -0.80808081 -0.80808081]\n"
     ]
    }
   ],
   "source": [
    "dh = h - h_av\n",
    "print(dh)"
   ]
  },
  {
   "cell_type": "code",
   "execution_count": 11,
   "metadata": {},
   "outputs": [],
   "source": [
    "ds = ds[:-1]\n",
    "\n",
    "# dhdsds[i1,i2] = mean_t dh[t]*ds[t,i1]*ds[t,i2]\n",
    "dhds = dh[:,np.newaxis]*ds\n",
    "dhdsds = np.dot(dhds.T,ds)/(l-1)"
   ]
  },
  {
   "cell_type": "code",
   "execution_count": 12,
   "metadata": {},
   "outputs": [],
   "source": [
    "# q1[j,k] = sum_i1i2 dhdsds[i1,i2]*C_inv[j,i1]*C_inv[k,i2] \n",
    "q1 = np.dot(c1,dhdsds)\n",
    "q1 = np.dot(q1,c1.T)"
   ]
  },
  {
   "cell_type": "code",
   "execution_count": 13,
   "metadata": {},
   "outputs": [
    {
     "name": "stdout",
     "output_type": "stream",
     "text": [
      "(4, 4)\n"
     ]
    }
   ],
   "source": [
    "print(q1.shape)"
   ]
  },
  {
   "cell_type": "code",
   "execution_count": 26,
   "metadata": {
    "scrolled": true
   },
   "outputs": [],
   "source": [
    "# ss[t,i,j] = s[t,i]*s[t,j]\n",
    "ss = s[:,:,np.newaxis]*s[:,np.newaxis,:]\n",
    "ss = ss[:-1,:,:]\n",
    "dss = ss - np.mean(ss,axis=0)"
   ]
  },
  {
   "cell_type": "code",
   "execution_count": 27,
   "metadata": {},
   "outputs": [
    {
     "name": "stdout",
     "output_type": "stream",
     "text": [
      "(99, 4, 4)\n"
     ]
    }
   ],
   "source": [
    "print(dss.shape)"
   ]
  },
  {
   "cell_type": "code",
   "execution_count": 28,
   "metadata": {},
   "outputs": [],
   "source": [
    "dhdss = dh[:,np.newaxis,np.newaxis]*dss"
   ]
  },
  {
   "cell_type": "code",
   "execution_count": 36,
   "metadata": {},
   "outputs": [],
   "source": [
    "dhdss_av = np.mean(dhdss,axis=0)"
   ]
  },
  {
   "cell_type": "code",
   "execution_count": 37,
   "metadata": {},
   "outputs": [
    {
     "data": {
      "text/plain": [
       "(4, 4)"
      ]
     },
     "execution_count": 37,
     "metadata": {},
     "output_type": "execute_result"
    }
   ],
   "source": [
    "dhdss_av.shape"
   ]
  },
  {
   "cell_type": "code",
   "execution_count": 40,
   "metadata": {},
   "outputs": [],
   "source": [
    "q11 = np.dot(c1,dhdss_av)\n",
    "q1 = np.dot(q11,c1.T)"
   ]
  },
  {
   "cell_type": "code",
   "execution_count": 41,
   "metadata": {},
   "outputs": [
    {
     "data": {
      "text/plain": [
       "(4, 4)"
      ]
     },
     "execution_count": 41,
     "metadata": {},
     "output_type": "execute_result"
    }
   ],
   "source": [
    "q1.shape"
   ]
  },
  {
   "cell_type": "markdown",
   "metadata": {},
   "source": [
    "# calculate q2"
   ]
  },
  {
   "cell_type": "code",
   "execution_count": 44,
   "metadata": {},
   "outputs": [],
   "source": [
    "# dsdss[t,i,j,k] = ds[t,i]*dss[t,j,k]\n",
    "dsdss = ds[:,:,np.newaxis,np.newaxis]*dss[:,np.newaxis,:,:]\n",
    "dsdss_av = np.mean(dsdss,axis=0)\n"
   ]
  },
  {
   "cell_type": "code",
   "execution_count": 45,
   "metadata": {},
   "outputs": [
    {
     "data": {
      "text/plain": [
       "(4, 4, 4)"
      ]
     },
     "execution_count": 45,
     "metadata": {},
     "output_type": "execute_result"
    }
   ],
   "source": [
    "dsdss_av.shape"
   ]
  },
  {
   "cell_type": "code",
   "execution_count": 46,
   "metadata": {},
   "outputs": [],
   "source": [
    "c1dsdss = np.dot(c1,dsdss_av)"
   ]
  },
  {
   "cell_type": "code",
   "execution_count": 47,
   "metadata": {},
   "outputs": [
    {
     "data": {
      "text/plain": [
       "(4, 4, 4)"
      ]
     },
     "execution_count": 47,
     "metadata": {},
     "output_type": "execute_result"
    }
   ],
   "source": [
    "c1dsdss.shape"
   ]
  },
  {
   "cell_type": "code",
   "execution_count": null,
   "metadata": {},
   "outputs": [],
   "source": []
  }
 ],
 "metadata": {
  "kernelspec": {
   "display_name": "Python 2",
   "language": "python",
   "name": "python2"
  },
  "language_info": {
   "codemirror_mode": {
    "name": "ipython",
    "version": 2
   },
   "file_extension": ".py",
   "mimetype": "text/x-python",
   "name": "python",
   "nbconvert_exporter": "python",
   "pygments_lexer": "ipython2",
   "version": "2.7.15"
  }
 },
 "nbformat": 4,
 "nbformat_minor": 2
}
